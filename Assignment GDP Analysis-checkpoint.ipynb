{
 "cells": [
  {
   "cell_type": "markdown",
   "metadata": {},
   "source": [
    "# Part-I: GDP Analysis of Indian States"
   ]
  },
  {
   "cell_type": "markdown",
   "metadata": {},
   "source": [
    "### Part I-A:"
   ]
  },
  {
   "cell_type": "code",
   "execution_count": null,
   "metadata": {},
   "outputs": [],
   "source": [
    "cols = list(data1_a.columns.values)\n",
    "\n",
    "data1_a.set_index(\"Duration\", inplace=True)\n",
    "\n",
    "data1_a = data1_a.loc[['2013-14','2014-15','2015-16']]\n",
    "#data1_a.drop(\"2016-17\", axis=0, inplace=True)\n",
    "\n",
    "data1_a.reset_index(inplace=True)\n",
    "\n",
    "data1_a = data1_a.transpose()\n",
    "\n",
    "data1_a = data1_a[cols]\n",
    "\n",
    "data1_a.fillna(data1_a.mean(),inplace=True)\n",
    "\n",
    "df.dropna(axis='columns')"
   ]
  },
  {
   "cell_type": "code",
   "execution_count": 1,
   "metadata": {},
   "outputs": [],
   "source": [
    "import numpy as np                                       #Importing numpy\n",
    "import pandas as pd                                      #Importing pandas\n",
    "\n",
    "df = pd.read_csv(\"Data I-A.csv\")\n",
    "duration = ['2013-14','2014-15','2015-16']\n",
    "gsdp = ['GSDP - CURRENT PRICES (` in Crore)']\n",
    "per_growth = ['(% Growth over previous year)']\n",
    "df = df.loc[df['Duration'].isin(duration)]"
   ]
  },
  {
   "cell_type": "code",
   "execution_count": 2,
   "metadata": {},
   "outputs": [],
   "source": [
    "df_gsdp = df.loc[df['Items  Description'].isin(gsdp)]\n",
    "df_percent_growth = df.loc[df['Items  Description'].isin(per_growth)]"
   ]
  },
  {
   "cell_type": "code",
   "execution_count": 3,
   "metadata": {},
   "outputs": [],
   "source": [
    "df_gsdp = df_gsdp.fillna(df_gsdp.mean())\n",
    "df_percent_growth = df_percent_growth.fillna(df_percent_growth.mean())"
   ]
  },
  {
   "cell_type": "code",
   "execution_count": 4,
   "metadata": {},
   "outputs": [],
   "source": [
    "#data1_a[['Average Growth of States']] = data1_a.groupby('(% Growth over previous year)').mean()\n",
    "#df_percent_growth.set_index('Items  Description', inplace=True)\n",
    "df_percent_growth.loc['Average Growth of States'] = df_percent_growth.mean()"
   ]
  },
  {
   "cell_type": "code",
   "execution_count": 5,
   "metadata": {},
   "outputs": [],
   "source": [
    "df_avg_percent_growth = df_percent_growth.loc[['Average Growth of States']]\n",
    "df_avg_percent_growth.dropna(axis='columns',inplace=True)\n",
    "df_avg_percent_growth.drop(['All_India GDP'], axis=1,inplace=True)"
   ]
  },
  {
   "cell_type": "code",
   "execution_count": 24,
   "metadata": {},
   "outputs": [
    {
     "data": {
      "text/plain": [
       "Text(0, 0.5, 'Average Growth of States')"
      ]
     },
     "execution_count": 24,
     "metadata": {},
     "output_type": "execute_result"
    },
    {
     "data": {
      "image/png": "[encoded data removed]",
      "text/plain": [
       "<Figure size 720x360 with 1 Axes>"
      ]
     },
     "metadata": {
      "needs_background": "light"
     },
     "output_type": "display_data"
    }
   ],
   "source": [
    "import matplotlib.pyplot as plt\n",
    "import seaborn as sns\n",
    "#ax = sns.barplot(x=\"day\", y=\"total_bill\",df_avg_percent_growth)\n",
    "#plt.hist(df_avg_percent_growth['Average Growth of States'])\n",
    "#sns.barplot(df_avg_percent_growth)\n",
    "#df_avg_percent_growth.plot(kind=\"bar\")\n",
    "plt.figure(figsize=(10,5))\n",
    "df_avg_percent_growth.loc['Average Growth of States'].plot(kind=\"bar\")\n",
    "plt.xlabel('States')\n",
    "plt.ylabel('Average Growth of States')"
   ]
  },
  {
   "cell_type": "code",
   "execution_count": 7,
   "metadata": {},
   "outputs": [],
   "source": [
    "df_percent_growth.drop(['Average Growth of States'],inplace=True)\n",
    "df_percent_growth.drop(['Items  Description'], axis=1,inplace=True)"
   ]
  },
  {
   "cell_type": "code",
   "execution_count": 15,
   "metadata": {},
   "outputs": [
    {
     "data": {
      "text/html": [
       "<div>\n",
       "<style scoped>\n",
       "    .dataframe tbody tr th:only-of-type {\n",
       "        vertical-align: middle;\n",
       "    }\n",
       "\n",
       "    .dataframe tbody tr th {\n",
       "        vertical-align: top;\n",
       "    }\n",
       "\n",
       "    .dataframe thead th {\n",
       "        text-align: right;\n",
       "    }\n",
       "</style>\n",
       "<table border=\"1\" class=\"dataframe\">\n",
       "  <thead>\n",
       "    <tr style=\"text-align: right;\">\n",
       "      <th></th>\n",
       "      <th>Andhra Pradesh</th>\n",
       "      <th>Arunachal Pradesh</th>\n",
       "      <th>Assam</th>\n",
       "      <th>Bihar</th>\n",
       "      <th>Chhattisgarh</th>\n",
       "      <th>Goa</th>\n",
       "      <th>Gujarat</th>\n",
       "      <th>Haryana</th>\n",
       "      <th>Himachal Pradesh</th>\n",
       "      <th>Jammu &amp; Kashmir</th>\n",
       "      <th>...</th>\n",
       "      <th>Telangana</th>\n",
       "      <th>Tripura</th>\n",
       "      <th>Uttar Pradesh</th>\n",
       "      <th>Uttarakhand</th>\n",
       "      <th>West Bengal1</th>\n",
       "      <th>Andaman &amp; Nicobar Islands</th>\n",
       "      <th>Chandigarh</th>\n",
       "      <th>Delhi</th>\n",
       "      <th>Puducherry</th>\n",
       "      <th>All_India GDP</th>\n",
       "    </tr>\n",
       "    <tr>\n",
       "      <th>Duration</th>\n",
       "      <th></th>\n",
       "      <th></th>\n",
       "      <th></th>\n",
       "      <th></th>\n",
       "      <th></th>\n",
       "      <th></th>\n",
       "      <th></th>\n",
       "      <th></th>\n",
       "      <th></th>\n",
       "      <th></th>\n",
       "      <th></th>\n",
       "      <th></th>\n",
       "      <th></th>\n",
       "      <th></th>\n",
       "      <th></th>\n",
       "      <th></th>\n",
       "      <th></th>\n",
       "      <th></th>\n",
       "      <th></th>\n",
       "      <th></th>\n",
       "      <th></th>\n",
       "    </tr>\n",
       "  </thead>\n",
       "  <tbody>\n",
       "    <tr>\n",
       "      <th>2013-14</th>\n",
       "      <td>12.85</td>\n",
       "      <td>16.38</td>\n",
       "      <td>13.31</td>\n",
       "      <td>12.30</td>\n",
       "      <td>16.44</td>\n",
       "      <td>-5.77</td>\n",
       "      <td>11.47</td>\n",
       "      <td>15.45</td>\n",
       "      <td>14.42</td>\n",
       "      <td>10.09</td>\n",
       "      <td>...</td>\n",
       "      <td>12.63</td>\n",
       "      <td>18.14</td>\n",
       "      <td>14.73</td>\n",
       "      <td>13.64</td>\n",
       "      <td>NaN</td>\n",
       "      <td>16.680</td>\n",
       "      <td>14.71</td>\n",
       "      <td>13.43</td>\n",
       "      <td>15.87</td>\n",
       "      <td>12.97</td>\n",
       "    </tr>\n",
       "    <tr>\n",
       "      <th>2014-15</th>\n",
       "      <td>13.40</td>\n",
       "      <td>14.79</td>\n",
       "      <td>11.45</td>\n",
       "      <td>17.92</td>\n",
       "      <td>13.69</td>\n",
       "      <td>13.12</td>\n",
       "      <td>10.82</td>\n",
       "      <td>9.18</td>\n",
       "      <td>10.14</td>\n",
       "      <td>4.70</td>\n",
       "      <td>...</td>\n",
       "      <td>13.05</td>\n",
       "      <td>15.92</td>\n",
       "      <td>10.51</td>\n",
       "      <td>8.12</td>\n",
       "      <td>NaN</td>\n",
       "      <td>10.890</td>\n",
       "      <td>12.33</td>\n",
       "      <td>10.96</td>\n",
       "      <td>10.14</td>\n",
       "      <td>10.65</td>\n",
       "    </tr>\n",
       "    <tr>\n",
       "      <th>2015-16</th>\n",
       "      <td>15.85</td>\n",
       "      <td>12.07</td>\n",
       "      <td>13.19</td>\n",
       "      <td>10.59</td>\n",
       "      <td>10.98</td>\n",
       "      <td>10.75</td>\n",
       "      <td>11.09</td>\n",
       "      <td>10.91</td>\n",
       "      <td>12.28</td>\n",
       "      <td>17.91</td>\n",
       "      <td>...</td>\n",
       "      <td>12.61</td>\n",
       "      <td>17.03</td>\n",
       "      <td>10.58</td>\n",
       "      <td>13.65</td>\n",
       "      <td>NaN</td>\n",
       "      <td>13.785</td>\n",
       "      <td>8.84</td>\n",
       "      <td>12.09</td>\n",
       "      <td>10.15</td>\n",
       "      <td>9.99</td>\n",
       "    </tr>\n",
       "  </tbody>\n",
       "</table>\n",
       "<p>3 rows × 34 columns</p>\n",
       "</div>"
      ],
      "text/plain": [
       "          Andhra Pradesh   Arunachal Pradesh  Assam  Bihar  Chhattisgarh  \\\n",
       "Duration                                                                   \n",
       "2013-14             12.85              16.38  13.31  12.30         16.44   \n",
       "2014-15             13.40              14.79  11.45  17.92         13.69   \n",
       "2015-16             15.85              12.07  13.19  10.59         10.98   \n",
       "\n",
       "            Goa  Gujarat  Haryana  Himachal Pradesh  Jammu & Kashmir  ...  \\\n",
       "Duration                                                              ...   \n",
       "2013-14   -5.77    11.47    15.45             14.42            10.09  ...   \n",
       "2014-15   13.12    10.82     9.18             10.14             4.70  ...   \n",
       "2015-16   10.75    11.09    10.91             12.28            17.91  ...   \n",
       "\n",
       "          Telangana  Tripura  Uttar Pradesh  Uttarakhand  West Bengal1  \\\n",
       "Duration                                                                 \n",
       "2013-14       12.63    18.14          14.73        13.64           NaN   \n",
       "2014-15       13.05    15.92          10.51         8.12           NaN   \n",
       "2015-16       12.61    17.03          10.58        13.65           NaN   \n",
       "\n",
       "          Andaman & Nicobar Islands  Chandigarh  Delhi  Puducherry  \\\n",
       "Duration                                                             \n",
       "2013-14                      16.680       14.71  13.43       15.87   \n",
       "2014-15                      10.890       12.33  10.96       10.14   \n",
       "2015-16                      13.785        8.84  12.09       10.15   \n",
       "\n",
       "          All_India GDP  \n",
       "Duration                 \n",
       "2013-14           12.97  \n",
       "2014-15           10.65  \n",
       "2015-16            9.99  \n",
       "\n",
       "[3 rows x 34 columns]"
      ]
     },
     "execution_count": 15,
     "metadata": {},
     "output_type": "execute_result"
    }
   ],
   "source": [
    "df_percent_growth.set_index('Duration', inplace=True)\n",
    "df_percent_growth"
   ]
  },
  {
   "cell_type": "code",
   "execution_count": 34,
   "metadata": {},
   "outputs": [
    {
     "ename": "ValueError",
     "evalue": "Cannot use `hue` without `x` or `y`",
     "output_type": "error",
     "traceback": [
      "\u001b[1;31m---------------------------------------------------------------------------\u001b[0m",
      "\u001b[1;31mValueError\u001b[0m                                Traceback (most recent call last)",
      "\u001b[1;32m<ipython-input-34-50b9d8a06a65>\u001b[0m in \u001b[0;36m<module>\u001b[1;34m\u001b[0m\n\u001b[0;32m      1\u001b[0m \u001b[0mdf_percent_growth\u001b[0m\u001b[1;33m.\u001b[0m\u001b[0mreset_index\u001b[0m\u001b[1;33m(\u001b[0m\u001b[0minplace\u001b[0m\u001b[1;33m=\u001b[0m\u001b[1;32mTrue\u001b[0m\u001b[1;33m)\u001b[0m\u001b[1;33m\u001b[0m\u001b[1;33m\u001b[0m\u001b[0m\n\u001b[0;32m      2\u001b[0m \u001b[0msns\u001b[0m\u001b[1;33m.\u001b[0m\u001b[0mset\u001b[0m\u001b[1;33m(\u001b[0m\u001b[0mstyle\u001b[0m\u001b[1;33m=\u001b[0m\u001b[1;34m\"whitegrid\"\u001b[0m\u001b[1;33m)\u001b[0m\u001b[1;33m\u001b[0m\u001b[1;33m\u001b[0m\u001b[0m\n\u001b[1;32m----> 3\u001b[1;33m \u001b[0msns\u001b[0m\u001b[1;33m.\u001b[0m\u001b[0mbarplot\u001b[0m\u001b[1;33m(\u001b[0m\u001b[0mdata\u001b[0m\u001b[1;33m=\u001b[0m\u001b[0mdf_avg_percent_growth\u001b[0m\u001b[1;33m,\u001b[0m \u001b[0mhue\u001b[0m\u001b[1;33m=\u001b[0m\u001b[0mduration\u001b[0m\u001b[1;33m)\u001b[0m\u001b[1;33m\u001b[0m\u001b[1;33m\u001b[0m\u001b[0m\n\u001b[0m",
      "\u001b[1;32mC:\\ProgramData\\Anaconda3\\lib\\site-packages\\seaborn\\categorical.py\u001b[0m in \u001b[0;36mbarplot\u001b[1;34m(x, y, hue, data, order, hue_order, estimator, ci, n_boot, units, orient, color, palette, saturation, errcolor, errwidth, capsize, dodge, ax, **kwargs)\u001b[0m\n\u001b[0;32m   3147\u001b[0m                           \u001b[0mestimator\u001b[0m\u001b[1;33m,\u001b[0m \u001b[0mci\u001b[0m\u001b[1;33m,\u001b[0m \u001b[0mn_boot\u001b[0m\u001b[1;33m,\u001b[0m \u001b[0munits\u001b[0m\u001b[1;33m,\u001b[0m\u001b[1;33m\u001b[0m\u001b[1;33m\u001b[0m\u001b[0m\n\u001b[0;32m   3148\u001b[0m                           \u001b[0morient\u001b[0m\u001b[1;33m,\u001b[0m \u001b[0mcolor\u001b[0m\u001b[1;33m,\u001b[0m \u001b[0mpalette\u001b[0m\u001b[1;33m,\u001b[0m \u001b[0msaturation\u001b[0m\u001b[1;33m,\u001b[0m\u001b[1;33m\u001b[0m\u001b[1;33m\u001b[0m\u001b[0m\n\u001b[1;32m-> 3149\u001b[1;33m                           errcolor, errwidth, capsize, dodge)\n\u001b[0m\u001b[0;32m   3150\u001b[0m \u001b[1;33m\u001b[0m\u001b[0m\n\u001b[0;32m   3151\u001b[0m     \u001b[1;32mif\u001b[0m \u001b[0max\u001b[0m \u001b[1;32mis\u001b[0m \u001b[1;32mNone\u001b[0m\u001b[1;33m:\u001b[0m\u001b[1;33m\u001b[0m\u001b[1;33m\u001b[0m\u001b[0m\n",
      "\u001b[1;32mC:\\ProgramData\\Anaconda3\\lib\\site-packages\\seaborn\\categorical.py\u001b[0m in \u001b[0;36m__init__\u001b[1;34m(self, x, y, hue, data, order, hue_order, estimator, ci, n_boot, units, orient, color, palette, saturation, errcolor, errwidth, capsize, dodge)\u001b[0m\n\u001b[0;32m   1605\u001b[0m         \u001b[1;34m\"\"\"Initialize the plotter.\"\"\"\u001b[0m\u001b[1;33m\u001b[0m\u001b[1;33m\u001b[0m\u001b[0m\n\u001b[0;32m   1606\u001b[0m         self.establish_variables(x, y, hue, data, orient,\n\u001b[1;32m-> 1607\u001b[1;33m                                  order, hue_order, units)\n\u001b[0m\u001b[0;32m   1608\u001b[0m         \u001b[0mself\u001b[0m\u001b[1;33m.\u001b[0m\u001b[0mestablish_colors\u001b[0m\u001b[1;33m(\u001b[0m\u001b[0mcolor\u001b[0m\u001b[1;33m,\u001b[0m \u001b[0mpalette\u001b[0m\u001b[1;33m,\u001b[0m \u001b[0msaturation\u001b[0m\u001b[1;33m)\u001b[0m\u001b[1;33m\u001b[0m\u001b[1;33m\u001b[0m\u001b[0m\n\u001b[0;32m   1609\u001b[0m         \u001b[0mself\u001b[0m\u001b[1;33m.\u001b[0m\u001b[0mestimate_statistic\u001b[0m\u001b[1;33m(\u001b[0m\u001b[0mestimator\u001b[0m\u001b[1;33m,\u001b[0m \u001b[0mci\u001b[0m\u001b[1;33m,\u001b[0m \u001b[0mn_boot\u001b[0m\u001b[1;33m)\u001b[0m\u001b[1;33m\u001b[0m\u001b[1;33m\u001b[0m\u001b[0m\n",
      "\u001b[1;32mC:\\ProgramData\\Anaconda3\\lib\\site-packages\\seaborn\\categorical.py\u001b[0m in \u001b[0;36mestablish_variables\u001b[1;34m(self, x, y, hue, data, orient, order, hue_order, units)\u001b[0m\n\u001b[0;32m     46\u001b[0m             \u001b[1;32mif\u001b[0m \u001b[0mhue\u001b[0m \u001b[1;32mis\u001b[0m \u001b[1;32mnot\u001b[0m \u001b[1;32mNone\u001b[0m\u001b[1;33m:\u001b[0m\u001b[1;33m\u001b[0m\u001b[1;33m\u001b[0m\u001b[0m\n\u001b[0;32m     47\u001b[0m                 \u001b[0merror\u001b[0m \u001b[1;33m=\u001b[0m \u001b[1;34m\"Cannot use `hue` without `x` or `y`\"\u001b[0m\u001b[1;33m\u001b[0m\u001b[1;33m\u001b[0m\u001b[0m\n\u001b[1;32m---> 48\u001b[1;33m                 \u001b[1;32mraise\u001b[0m \u001b[0mValueError\u001b[0m\u001b[1;33m(\u001b[0m\u001b[0merror\u001b[0m\u001b[1;33m)\u001b[0m\u001b[1;33m\u001b[0m\u001b[1;33m\u001b[0m\u001b[0m\n\u001b[0m\u001b[0;32m     49\u001b[0m \u001b[1;33m\u001b[0m\u001b[0m\n\u001b[0;32m     50\u001b[0m             \u001b[1;31m# No hue grouping with wide inputs\u001b[0m\u001b[1;33m\u001b[0m\u001b[1;33m\u001b[0m\u001b[1;33m\u001b[0m\u001b[0m\n",
      "\u001b[1;31mValueError\u001b[0m: Cannot use `hue` without `x` or `y`"
     ]
    }
   ],
   "source": [
    "df_percent_growth.reset_index(inplace=True)\n",
    "sns.set(style=\"whitegrid\")\n",
    "sns.barplot(data=df_avg_percent_growth, hue=duration)"
   ]
  },
  {
   "cell_type": "code",
   "execution_count": 17,
   "metadata": {},
   "outputs": [
    {
     "data": {
      "text/html": [
       "<div>\n",
       "<style scoped>\n",
       "    .dataframe tbody tr th:only-of-type {\n",
       "        vertical-align: middle;\n",
       "    }\n",
       "\n",
       "    .dataframe tbody tr th {\n",
       "        vertical-align: top;\n",
       "    }\n",
       "\n",
       "    .dataframe thead th {\n",
       "        text-align: right;\n",
       "    }\n",
       "</style>\n",
       "<table border=\"1\" class=\"dataframe\">\n",
       "  <thead>\n",
       "    <tr style=\"text-align: right;\">\n",
       "      <th></th>\n",
       "      <th>Andhra Pradesh</th>\n",
       "      <th>Arunachal Pradesh</th>\n",
       "      <th>Assam</th>\n",
       "      <th>Bihar</th>\n",
       "      <th>Chhattisgarh</th>\n",
       "      <th>Goa</th>\n",
       "      <th>Gujarat</th>\n",
       "      <th>Haryana</th>\n",
       "      <th>Himachal Pradesh</th>\n",
       "      <th>Jammu &amp; Kashmir</th>\n",
       "      <th>...</th>\n",
       "      <th>Sikkim</th>\n",
       "      <th>Tamil Nadu</th>\n",
       "      <th>Telangana</th>\n",
       "      <th>Tripura</th>\n",
       "      <th>Uttar Pradesh</th>\n",
       "      <th>Uttarakhand</th>\n",
       "      <th>Andaman &amp; Nicobar Islands</th>\n",
       "      <th>Chandigarh</th>\n",
       "      <th>Delhi</th>\n",
       "      <th>Puducherry</th>\n",
       "    </tr>\n",
       "  </thead>\n",
       "  <tbody>\n",
       "    <tr>\n",
       "      <th>Average Growth of States</th>\n",
       "      <td>14.033333</td>\n",
       "      <td>14.413333</td>\n",
       "      <td>12.65</td>\n",
       "      <td>13.603333</td>\n",
       "      <td>13.703333</td>\n",
       "      <td>6.033333</td>\n",
       "      <td>11.126667</td>\n",
       "      <td>11.846667</td>\n",
       "      <td>12.28</td>\n",
       "      <td>10.9</td>\n",
       "      <td>...</td>\n",
       "      <td>10.486667</td>\n",
       "      <td>12.336667</td>\n",
       "      <td>12.763333</td>\n",
       "      <td>17.03</td>\n",
       "      <td>11.94</td>\n",
       "      <td>11.803333</td>\n",
       "      <td>13.785</td>\n",
       "      <td>11.96</td>\n",
       "      <td>12.16</td>\n",
       "      <td>12.053333</td>\n",
       "    </tr>\n",
       "  </tbody>\n",
       "</table>\n",
       "<p>1 rows × 32 columns</p>\n",
       "</div>"
      ],
      "text/plain": [
       "                          Andhra Pradesh   Arunachal Pradesh  Assam  \\\n",
       "Average Growth of States        14.033333          14.413333  12.65   \n",
       "\n",
       "                              Bihar  Chhattisgarh       Goa    Gujarat  \\\n",
       "Average Growth of States  13.603333     13.703333  6.033333  11.126667   \n",
       "\n",
       "                            Haryana  Himachal Pradesh  Jammu & Kashmir  ...  \\\n",
       "Average Growth of States  11.846667             12.28             10.9  ...   \n",
       "\n",
       "                             Sikkim  Tamil Nadu  Telangana  Tripura  \\\n",
       "Average Growth of States  10.486667   12.336667  12.763333    17.03   \n",
       "\n",
       "                          Uttar Pradesh  Uttarakhand  \\\n",
       "Average Growth of States          11.94    11.803333   \n",
       "\n",
       "                          Andaman & Nicobar Islands  Chandigarh  Delhi  \\\n",
       "Average Growth of States                     13.785       11.96  12.16   \n",
       "\n",
       "                          Puducherry  \n",
       "Average Growth of States   12.053333  \n",
       "\n",
       "[1 rows x 32 columns]"
      ]
     },
     "execution_count": 17,
     "metadata": {},
     "output_type": "execute_result"
    }
   ],
   "source": [
    "df_avg_percent_growth"
   ]
  },
  {
   "cell_type": "code",
   "execution_count": null,
   "metadata": {},
   "outputs": [],
   "source": []
  }
 ],
 "metadata": {
  "kernelspec": {
   "display_name": "Python 3",
   "language": "python",
   "name": "python3"
  },
  "language_info": {
   "codemirror_mode": {
    "name": "ipython",
    "version": 3
   },
   "file_extension": ".py",
   "mimetype": "text/x-python",
   "name": "python",
   "nbconvert_exporter": "python",
   "pygments_lexer": "ipython3",
   "version": "3.7.3"
  }
 },
 "nbformat": 4,
 "nbformat_minor": 2
}
